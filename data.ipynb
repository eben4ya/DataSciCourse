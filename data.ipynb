{
 "cells": [
  {
   "cell_type": "markdown",
   "metadata": {},
   "source": [
    "# 1. BASIC PYTHON FOR DATA SCIENCE"
   ]
  },
  {
   "cell_type": "code",
   "execution_count": 1,
   "metadata": {},
   "outputs": [
    {
     "name": "stdout",
     "output_type": "stream",
     "text": [
      "Pelatihan Data Science\n"
     ]
    }
   ],
   "source": [
    "# ini komentar\n",
    "print(\"Pelatihan Data Science\")"
   ]
  },
  {
   "cell_type": "code",
   "execution_count": 5,
   "metadata": {},
   "outputs": [
    {
     "name": "stdout",
     "output_type": "stream",
     "text": [
      "10 20\n",
      "ini angka 10\n",
      "ini angka 10 dan ini angka 20\n",
      "ini angka 10 dan ini angka 20\n",
      "ini angka 10 dan ini angka 20\n"
     ]
    }
   ],
   "source": [
    "a = 10\n",
    "b = 20\n",
    "\n",
    "print(a, b)\n",
    "\n",
    "# cara 1\n",
    "print(\"ini angka\", a)\n",
    "print(\"ini angka\", a, \"dan ini angka\", b)\n",
    "\n",
    "#cara 2\n",
    "print(\"ini angka %d dan ini angka %d\" %(a, b))\n",
    "\n",
    "#cara 3\n",
    "print(f\"ini angka {a} dan ini angka {b}\")"
   ]
  },
  {
   "cell_type": "code",
   "execution_count": 6,
   "metadata": {},
   "outputs": [
    {
     "name": "stdout",
     "output_type": "stream",
     "text": [
      "10\n",
      "nando\n",
      "False\n"
     ]
    }
   ],
   "source": [
    "x = 10\n",
    "print(x)\n",
    "\n",
    "x = \"nando\"\n",
    "print(x)\n",
    "\n",
    "x = False\n",
    "print(x)"
   ]
  },
  {
   "cell_type": "code",
   "execution_count": 8,
   "metadata": {},
   "outputs": [
    {
     "name": "stdout",
     "output_type": "stream",
     "text": [
      "100\n",
      "50\n",
      "Hasil =  10050\n",
      "Hasil =  150\n"
     ]
    }
   ],
   "source": [
    "x = \"100\"\n",
    "print(x)\n",
    "\n",
    "y = \"50\"\n",
    "print(y)\n",
    "\n",
    "hasil = x + y\n",
    "print(\"Hasil = \", hasil)\n",
    "\n",
    "#sekarang kita akan mengubah x dan y menjadi integer supaya kita jumlah\n",
    "x = int(x)\n",
    "y = int(y)\n",
    "\n",
    "hasil = x + y\n",
    "print(\"Hasil = \", hasil)"
   ]
  },
  {
   "cell_type": "code",
   "execution_count": null,
   "metadata": {},
   "outputs": [],
   "source": []
  },
  {
   "cell_type": "code",
   "execution_count": 9,
   "metadata": {},
   "outputs": [
    {
     "name": "stdout",
     "output_type": "stream",
     "text": [
      "Hasil penjumlahan adalah\n",
      "7\n",
      "Hasil pengurangan adalah\n",
      "3\n",
      "Hasil perkalian adalah\n",
      "10\n",
      "Hasil pembagian adalah\n",
      "2.5\n",
      "Hasil pembagian menjadi integer adalah\n",
      "2\n",
      "Hasil perpangkatan adalah\n",
      "25\n",
      "Sisa pembagian adalah\n",
      "1\n"
     ]
    }
   ],
   "source": [
    "a = 5 \n",
    "b = 2 \n",
    "\n",
    "#penjumlahan\n",
    "print(\"Hasil penjumlahan adalah\")\n",
    "print(a + b)\n",
    "\n",
    "#pengurangan\n",
    "print(\"Hasil pengurangan adalah\")\n",
    "print(a - b)\n",
    "\n",
    "#perkalian\n",
    "print(\"Hasil perkalian adalah\")\n",
    "print(a * b)\n",
    "\n",
    "#pembagian\n",
    "print(\"Hasil pembagian adalah\")\n",
    "print(a / b)\n",
    "\n",
    "#pembagian menjadi integer\n",
    "print(\"Hasil pembagian menjadi integer adalah\")\n",
    "print(a // b)\n",
    "\n",
    "#perpangkatan\n",
    "print(\"Hasil perpangkatan adalah\")\n",
    "print(a ** b)\n",
    "\n",
    "# Modulus sisa pembagian\n",
    "print(\"Sisa pembagian adalah\")\n",
    "print(a % b)"
   ]
  },
  {
   "cell_type": "code",
   "execution_count": null,
   "metadata": {},
   "outputs": [],
   "source": [
    "x = 5\n",
    "x += 7\n",
    "print(x)"
   ]
  },
  {
   "cell_type": "code",
   "execution_count": 13,
   "metadata": {},
   "outputs": [
    {
     "name": "stdout",
     "output_type": "stream",
     "text": [
      "DataScientist\n",
      "Data Scientist\n"
     ]
    }
   ],
   "source": [
    "# Operator Penggabungan\n",
    "\n",
    "a = \"Data\"\n",
    "b = \"Scientist\"\n",
    "\n",
    "hasil = a + b\n",
    "print(hasil)\n",
    "\n",
    "hasil = a + \" \" + b\n",
    "print(hasil)"
   ]
  },
  {
   "cell_type": "code",
   "execution_count": 12,
   "metadata": {},
   "outputs": [
    {
     "name": "stdout",
     "output_type": "stream",
     "text": [
      "datascientist\n",
      "DATASCIENTIST\n"
     ]
    }
   ],
   "source": [
    "#Mengecilkan huruf\n",
    "hurufKecil = hasil.lower()\n",
    "print(hurufKecil)\n",
    "\n",
    "#Mengkapitalkan huruf\n",
    "hurufBesar = hasil.upper()\n",
    "print(hurufBesar)"
   ]
  },
  {
   "cell_type": "code",
   "execution_count": 3,
   "metadata": {},
   "outputs": [
    {
     "data": {
      "text/plain": [
       "True"
      ]
     },
     "execution_count": 3,
     "metadata": {},
     "output_type": "execute_result"
    }
   ],
   "source": [
    "pekerjaan_nando = \"Data Scientist\"\n",
    "pekerjaan_eben = \"Data SCienTist\"\n",
    "\n",
    "pekerjaan_nando == pekerjaan_eben\n",
    "\n",
    "pekerjaan_nando = pekerjaan_nando.lower()\n",
    "pekerjaan_eben = pekerjaan_eben.lower()\n",
    "\n",
    "pekerjaan_nando == pekerjaan_eben"
   ]
  },
  {
   "cell_type": "code",
   "execution_count": 8,
   "metadata": {},
   "outputs": [
    {
     "name": "stdout",
     "output_type": "stream",
     "text": [
      "[1, 2, \"It's Eben\", 3.14]\n",
      "It's Eben\n",
      "3.14\n",
      "[1, 2, 3, 4, 5, 6, 7, 8, 9]\n",
      "[1, 2, 3, 4, 5]\n",
      "[2, 3, 4, 5, 6]\n",
      "[4, 5, 6, 7, 8, 9]\n",
      "[1, 3, 5, 7, 9]\n",
      "[1, 2, 3, 4, 5, 6, 7, 8, 9, 10]\n",
      "1\n",
      "2\n",
      "3\n",
      "4\n",
      "5\n",
      "6\n",
      "7\n",
      "8\n",
      "9\n",
      "10\n"
     ]
    }
   ],
   "source": [
    "# List\n",
    "\n",
    "list1 = [1, 2, \"It's Eben\", 3.14]\n",
    "print(list1)\n",
    "\n",
    "print(list1[2])\n",
    "print (list1[-1]) # get last element\n",
    "\n",
    "# urgent\n",
    "list2 = [1, 2, 3, 4, 5, 6, 7, 8, 9]\n",
    "print(list2[:]) # print(list2)\n",
    "print(list2[:5]) # index 0 until < 5 \n",
    "print(list2[1:6]) # index 1 until < 6\n",
    "print(list2[3:]) # index 3 until end\n",
    "print(list2[:9:2]) # index 0 untul 9 with increment 2\n",
    "list2.append(10) # add 10 to the end of list\n",
    "print(list2)\n",
    "\n",
    "# ngeprint list dengan for loop\n",
    "for item in list2:\n",
    "    print(item)"
   ]
  },
  {
   "cell_type": "code",
   "execution_count": 11,
   "metadata": {},
   "outputs": [
    {
     "name": "stdout",
     "output_type": "stream",
     "text": [
      "1, 2, 3, 4, 5, 6, 7, 8, 9\n"
     ]
    }
   ],
   "source": [
    "# print list with better format\n",
    "numbers = [1, 2, 3, 4, 5, 6, 7, 8, 9]\n",
    "\n",
    "numbersToString =  [ str(num) for num in numbers ] # convert every item in list to string\n",
    "\n",
    "result = \", \".join(numbersToString) # \", \" is the separator between each item\n",
    "\n",
    "print(result)\n"
   ]
  },
  {
   "cell_type": "code",
   "execution_count": 13,
   "metadata": {},
   "outputs": [
    {
     "name": "stdout",
     "output_type": "stream",
     "text": [
      "(1, 2, 3, 4, 5, 6, 7, 8, 9)\n"
     ]
    }
   ],
   "source": [
    "# tuple\n",
    "\n",
    "tuple = (1, 2, 3, 4, 5, 6, 7, 8, 9)\n",
    "print(tuple)\n",
    "tuple[3] = 19 # error, tuple is immutable"
   ]
  },
  {
   "cell_type": "code",
   "execution_count": 19,
   "metadata": {},
   "outputs": [
    {
     "name": "stdout",
     "output_type": "stream",
     "text": [
      "{False, 1, 'Nando', 4, 100, 'Eben'}\n"
     ]
    },
    {
     "ename": "TypeError",
     "evalue": "'set' object is not subscriptable",
     "output_type": "error",
     "traceback": [
      "\u001b[1;31m---------------------------------------------------------------------------\u001b[0m",
      "\u001b[1;31mTypeError\u001b[0m                                 Traceback (most recent call last)",
      "\u001b[1;32md:\\Ngoding\\ngoding santuy\\PROJECT\\WEBDEV WORKSHOP\\Data Science\\Pertemuan1\\code\\coba.ipynb Cell 14\u001b[0m line \u001b[0;36m7\n\u001b[0;32m      <a href='vscode-notebook-cell:/d%3A/Ngoding/ngoding%20santuy/PROJECT/WEBDEV%20WORKSHOP/Data%20Science/Pertemuan1/code/coba.ipynb#X20sZmlsZQ%3D%3D?line=3'>4</a>\u001b[0m \u001b[39mprint\u001b[39m(\u001b[39mset\u001b[39m)\n\u001b[0;32m      <a href='vscode-notebook-cell:/d%3A/Ngoding/ngoding%20santuy/PROJECT/WEBDEV%20WORKSHOP/Data%20Science/Pertemuan1/code/coba.ipynb#X20sZmlsZQ%3D%3D?line=5'>6</a>\u001b[0m \u001b[39m# we cannot see the value of set with index\u001b[39;00m\n\u001b[1;32m----> <a href='vscode-notebook-cell:/d%3A/Ngoding/ngoding%20santuy/PROJECT/WEBDEV%20WORKSHOP/Data%20Science/Pertemuan1/code/coba.ipynb#X20sZmlsZQ%3D%3D?line=6'>7</a>\u001b[0m \u001b[39mprint\u001b[39m(\u001b[39mset\u001b[39;49m[\u001b[39m2\u001b[39;49m]) \u001b[39m# error\u001b[39;00m\n",
      "\u001b[1;31mTypeError\u001b[0m: 'set' object is not subscriptable"
     ]
    }
   ],
   "source": [
    "# set --> unordered collection of unique items\n",
    "# it has posibility to display same item \n",
    "set = {1, 4, \"Eben\", True, False, \"Nando\", 100}\n",
    "print(set)\n",
    "\n",
    "# we cannot see the value of set with index\n",
    "print(set[2]) # error"
   ]
  },
  {
   "cell_type": "markdown",
   "metadata": {},
   "source": [
    "## DICTIONARY"
   ]
  },
  {
   "cell_type": "code",
   "execution_count": 26,
   "metadata": {},
   "outputs": [
    {
     "name": "stdout",
     "output_type": "stream",
     "text": [
      "{'Matkul': 'Aljabar Linear', 'Dosen': ['Gilbert', 'Eben'], 'Buku': 'Introduced to Linear Algebra', 'SKS': 3.0}\n",
      "4\n",
      "dict_values(['Aljabar Linear', ['Gilbert', 'Eben'], 'Introduced to Linear Algebra', 3.0])\n",
      "dict_keys(['Matkul', 'Dosen', 'Buku', 'SKS'])\n",
      "Aljabar Linear\n",
      "['Gilbert', 'Eben']\n",
      "Eben\n",
      "Introduced to Linear Algebra\n",
      "3.0\n",
      "{'Matkul': 'Aljabar Linear', 'Dosen': ['Gilbert', 'Eben'], 'Buku': 'Introduced to Linear Algebra', 'SKS': 3.0, 'JmlMhs': 100}\n",
      "Matkul \t: Aljabar Linear\n",
      "Dosen \t: ['Gilbert', 'Eben']\n",
      "Buku \t: Introduced to Linear Algebra\n",
      "SKS \t: 3.0\n",
      "JmlMhs \t: 100\n"
     ]
    }
   ],
   "source": [
    "data_alin = {\n",
    "    # \"keys\" : \"values\"\n",
    "    \"Matkul\" : \"Aljabar Linear\",\n",
    "    \"Dosen\" : [\"Gilbert\", \"Eben\"],\n",
    "    \"Buku\" : \"Introduced to Linear Algebra\",\n",
    "    \"SKS\" : 3.\n",
    "}\n",
    "\n",
    "print(data_alin)\n",
    "print(len(data_alin))\n",
    "print(data_alin.values())\n",
    "print(data_alin.keys())\n",
    "print(data_alin[\"Matkul\"])\n",
    "print(data_alin[\"Dosen\"])\n",
    "print(data_alin[\"Dosen\"][1])\n",
    "print(data_alin[\"Buku\"])\n",
    "print(data_alin[\"SKS\"])\n",
    "\n",
    "# add new key and value\n",
    "data_alin[\"JmlMhs\"] = 100\n",
    "print(data_alin)\n",
    "\n",
    "# for lop\n",
    "for key, value in data_alin.items():\n",
    "    print(f\"{key} \\t: {value}\")\n"
   ]
  },
  {
   "cell_type": "markdown",
   "metadata": {},
   "source": [
    "## IF STATEMENT"
   ]
  },
  {
   "cell_type": "code",
   "execution_count": 27,
   "metadata": {},
   "outputs": [
    {
     "name": "stdout",
     "output_type": "stream",
     "text": [
      "bjirr bang\n"
     ]
    }
   ],
   "source": [
    "i = 6\n",
    "\n",
    "if i > 8:\n",
    "    print(\"Puh ajarin dong puh\")\n",
    "elif i > 5:\n",
    "    print(\"bjirr bang\")\n",
    "else:\n",
    "    print(\"Minimal belajar lah\")"
   ]
  },
  {
   "cell_type": "markdown",
   "metadata": {},
   "source": [
    "## For Loop"
   ]
  },
  {
   "cell_type": "code",
   "execution_count": 32,
   "metadata": {},
   "outputs": [
    {
     "name": "stdout",
     "output_type": "stream",
     "text": [
      "6, \n",
      "8, \n",
      "10, \n",
      "9, \n",
      "8, \n",
      "7, \n",
      "6, \n",
      "7, \n",
      "8, \n",
      "9, \n",
      "0, \n",
      "1, \n",
      "2, \n",
      "3, \n",
      "4, \n",
      "5, \n"
     ]
    }
   ],
   "source": [
    "for i in range(6, 10, 2): # for (int i = 6; i < 10; i += 2)\n",
    "    print(f\"{i}, \")\n",
    "\n",
    "for i in range(10 ,6, -1): # for (int i = 10; i > 6; i -= 1)\n",
    "    print(f\"{i}, \")\n",
    "\n",
    "# this code will not print anything cuz the increment is 1\n",
    "# for i in range(10 ,6, 1): # for (int i = 10; i > 6; i i++)\n",
    "    # print(f\"{i}, \")\n",
    "\n",
    "for i in range(6, 10): # for (int i = 6; i < 10; i++)\n",
    "    print(f\"{i}, \")\n",
    "\n",
    "for i in range(6): # for (int i = 0; i < 6; i++)\n",
    "    print(f\"{i}, \")"
   ]
  },
  {
   "cell_type": "markdown",
   "metadata": {},
   "source": [
    "## Fungsi "
   ]
  },
  {
   "cell_type": "code",
   "execution_count": 33,
   "metadata": {},
   "outputs": [
    {
     "name": "stdout",
     "output_type": "stream",
     "text": [
      "8\n",
      "Hasil sisa bagi 10 dan 3 adalah 1\n"
     ]
    }
   ],
   "source": [
    "def akarPangkat(x, y):\n",
    "    return x ** y\n",
    "\n",
    "def sisaBagi(x, y):\n",
    "    hasil = x % y\n",
    "    print(f\"Hasil sisa bagi {x} dan {y} adalah {hasil}\")\n",
    "\n",
    "print(akarPangkat(2, 3))\n",
    "\n",
    "sisaBagi(10,3)"
   ]
  },
  {
   "cell_type": "markdown",
   "metadata": {},
   "source": [
    "## Input User"
   ]
  },
  {
   "cell_type": "code",
   "execution_count": 34,
   "metadata": {},
   "outputs": [
    {
     "name": "stdout",
     "output_type": "stream",
     "text": [
      "Hello Benaya Imanuela !\n"
     ]
    }
   ],
   "source": [
    "nama = input(\"Masukan nama anda :\")\n",
    "\n",
    "print(f\"Hello {nama} !\" )"
   ]
  },
  {
   "cell_type": "markdown",
   "metadata": {},
   "source": [
    "# 2. DATA PREPROCESSING"
   ]
  }
 ],
 "metadata": {
  "kernelspec": {
   "display_name": "Python 3",
   "language": "python",
   "name": "python3"
  },
  "language_info": {
   "codemirror_mode": {
    "name": "ipython",
    "version": 3
   },
   "file_extension": ".py",
   "mimetype": "text/x-python",
   "name": "python",
   "nbconvert_exporter": "python",
   "pygments_lexer": "ipython3",
   "version": "3.11.5"
  },
  "orig_nbformat": 4
 },
 "nbformat": 4,
 "nbformat_minor": 2
}
