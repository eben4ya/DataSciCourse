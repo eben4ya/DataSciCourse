{
 "cells": [
  {
   "cell_type": "markdown",
   "metadata": {},
   "source": [
    "# **6. Heart Disease EDA**"
   ]
  },
  {
   "cell_type": "markdown",
   "metadata": {},
   "source": [
    "#### **By Agustinus Angelo Christian Fernando (feat: Benaya Imanuela)** \n",
    "\n",
    "#### **Workflow EDA (Exploratory Data Analysis) : summarize and visualize the data, detect : outliers, missing values, patterns, trends, gain, etc**\n",
    "1. Pahami penjelasan / deskripsi dari setiap feature\n",
    "2. Catat pertanyaan yang ini kita ketahui dari data\n",
    "- Tentang distribusi setiap feature\n",
    "- Karakteristik dan Korelasi antara masing-masing feature terhadap variabel dependend\n",
    "- Semua yang ingin kamu ketahui ketika melihat data tersebut. Tulid saja apa yang terbesit di benakmu\n",
    "3. Lakukan cleaning data\n",
    "4. Lakukan feature engineering yang dapat menunjang EDA\n",
    "5. Menampilkan visualisasi dari setiap pertanyaan\n",
    "6. Kustomisasi plot agar enak dilihat"
   ]
  }
 ],
 "metadata": {
  "language_info": {
   "name": "python"
  }
 },
 "nbformat": 4,
 "nbformat_minor": 2
}
